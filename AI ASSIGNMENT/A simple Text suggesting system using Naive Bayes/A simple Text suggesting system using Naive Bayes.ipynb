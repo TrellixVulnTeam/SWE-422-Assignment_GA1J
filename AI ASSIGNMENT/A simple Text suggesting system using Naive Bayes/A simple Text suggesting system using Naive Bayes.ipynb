{
 "cells": [
  {
   "cell_type": "markdown",
   "metadata": {},
   "source": [
    "# Important module and library"
   ]
  },
  {
   "cell_type": "code",
   "execution_count": 19,
   "metadata": {
    "id": "LsYHUMbG-1_C"
   },
   "outputs": [],
   "source": [
    "import nltk\n",
    "from nltk import bigrams, trigrams\n",
    "from collections import Counter, defaultdict\n",
    "import os\n",
    "from nltk.corpus import reuters"
   ]
  },
  {
   "cell_type": "code",
   "execution_count": 20,
   "metadata": {
    "colab": {
     "base_uri": "https://localhost:8080/"
    },
    "id": "_2aRGxXA-5-v",
    "outputId": "cd5f4d81-f286-4ca7-a33e-ab45876274d4"
   },
   "outputs": [
    {
     "name": "stderr",
     "output_type": "stream",
     "text": [
      "[nltk_data] Downloading package reuters to\n",
      "[nltk_data]     C:\\Users\\FLORA\\AppData\\Roaming\\nltk_data...\n",
      "[nltk_data]   Package reuters is already up-to-date!\n",
      "[nltk_data] Downloading package punkt to\n",
      "[nltk_data]     C:\\Users\\FLORA\\AppData\\Roaming\\nltk_data...\n",
      "[nltk_data]   Package punkt is already up-to-date!\n"
     ]
    },
    {
     "data": {
      "text/plain": [
       "True"
      ]
     },
     "execution_count": 20,
     "metadata": {},
     "output_type": "execute_result"
    }
   ],
   "source": [
    "nltk.download('reuters')\n",
    "nltk.download('punkt')"
   ]
  },
  {
   "cell_type": "markdown",
   "metadata": {
    "id": "Wo8nvf4o-8T7"
   },
   "source": [
    "# Create a placeholder for model"
   ]
  },
  {
   "cell_type": "code",
   "execution_count": 21,
   "metadata": {
    "id": "vIy4WWz7--nk"
   },
   "outputs": [],
   "source": [
    "\n",
    "model = defaultdict(lambda: defaultdict(lambda: 0))\n",
    "\n"
   ]
  },
  {
   "cell_type": "markdown",
   "metadata": {},
   "source": [
    "# Count frequency of co-occurance  \n"
   ]
  },
  {
   "cell_type": "code",
   "execution_count": 23,
   "metadata": {},
   "outputs": [],
   "source": [
    "for sentence in reuters.sents():\n",
    "    for w1, w2, w3 in trigrams(sentence, pad_right=True, pad_left=True):\n",
    "            model[(w1, w2)][w3] += 1\n",
    "\n",
    "    \n",
    "   "
   ]
  },
  {
   "cell_type": "markdown",
   "metadata": {},
   "source": [
    "# Transform the counts to probabilities"
   ]
  },
  {
   "cell_type": "code",
   "execution_count": 24,
   "metadata": {
    "id": "fQ6_2FpT_FVx"
   },
   "outputs": [],
   "source": [
    "for w1_w2 in model:\n",
    "  total_count = float(sum(model[w1_w2].values()))\n",
    "  for w3 in model[w1_w2]:\n",
    "    model[w1_w2][w3] /= total_count"
   ]
  },
  {
   "cell_type": "markdown",
   "metadata": {},
   "source": [
    "# Predicting the next word\n"
   ]
  },
  {
   "cell_type": "code",
   "execution_count": 25,
   "metadata": {
    "id": "y4OLKEzd_WjZ"
   },
   "outputs": [],
   "source": [
    "predictions =  dict(model[\"this\", \"is\"])"
   ]
  },
  {
   "cell_type": "code",
   "execution_count": 26,
   "metadata": {
    "colab": {
     "base_uri": "https://localhost:8080/"
    },
    "id": "Vmu52Y9z_Y45",
    "outputId": "db8aa972-24ce-496d-92b7-2f02326c65cb"
   },
   "outputs": [
    {
     "data": {
      "text/plain": [
       "dict"
      ]
     },
     "execution_count": 26,
     "metadata": {},
     "output_type": "execute_result"
    }
   ],
   "source": [
    "type(predictions)"
   ]
  },
  {
   "cell_type": "code",
   "execution_count": 27,
   "metadata": {
    "colab": {
     "base_uri": "https://localhost:8080/"
    },
    "id": "QIq5DYCf_al1",
    "outputId": "3b7462c9-383a-4d10-fe2f-c8c1f72b3cab"
   },
   "outputs": [
    {
     "data": {
      "text/plain": [
       "{'a': 0.24528301886792453,\n",
       " 'the': 0.24528301886792453,\n",
       " 'not': 0.07547169811320754,\n",
       " 'hardly': 0.03773584905660377,\n",
       " 'done': 0.03773584905660377,\n",
       " 'an': 0.03773584905660377,\n",
       " 'believed': 0.018867924528301886,\n",
       " 'partly': 0.018867924528301886,\n",
       " 'most': 0.018867924528301886,\n",
       " 'definitely': 0.018867924528301886,\n",
       " 'approved': 0.018867924528301886,\n",
       " 'expected': 0.018867924528301886,\n",
       " 'about': 0.018867924528301886,\n",
       " 'underpinning': 0.018867924528301886,\n",
       " 'still': 0.018867924528301886,\n",
       " 'possible': 0.018867924528301886,\n",
       " 'probably': 0.018867924528301886,\n",
       " '700': 0.018867924528301886,\n",
       " 'unlikely': 0.018867924528301886,\n",
       " 'within': 0.018867924528301886,\n",
       " 'now': 0.018867924528301886,\n",
       " 'available': 0.018867924528301886,\n",
       " 'also': 0.018867924528301886}"
      ]
     },
     "execution_count": 27,
     "metadata": {},
     "output_type": "execute_result"
    }
   ],
   "source": [
    "top_predicted = dict(sorted(predictions.items(), key=lambda item: item[1],reverse=True))\n",
    "top_predicted"
   ]
  },
  {
   "cell_type": "code",
   "execution_count": 28,
   "metadata": {
    "colab": {
     "base_uri": "https://localhost:8080/"
    },
    "id": "88yrS85J_fC9",
    "outputId": "37a0c00e-12ef-480d-deb0-122b00434fc1"
   },
   "outputs": [
    {
     "name": "stdout",
     "output_type": "stream",
     "text": [
      "a 0.24528301886792453\n",
      "the 0.24528301886792453\n",
      "not 0.07547169811320754\n",
      "hardly 0.03773584905660377\n",
      "done 0.03773584905660377\n",
      "an 0.03773584905660377\n",
      "believed 0.018867924528301886\n",
      "partly 0.018867924528301886\n",
      "most 0.018867924528301886\n",
      "definitely 0.018867924528301886\n"
     ]
    }
   ],
   "source": [
    "top_keys = []\n",
    "for x in top_predicted.keys():\n",
    "  top_keys.append(x)\n",
    "\n",
    "for i in range(10):\n",
    "  print(top_keys[i],top_predicted[top_keys[i]])"
   ]
  },
  {
   "cell_type": "code",
   "execution_count": null,
   "metadata": {
    "id": "z7bddj0B_omT"
   },
   "outputs": [],
   "source": []
  },
  {
   "cell_type": "code",
   "execution_count": null,
   "metadata": {},
   "outputs": [],
   "source": []
  }
 ],
 "metadata": {
  "colab": {
   "name": "Word_Prediction_Using_Tri_gram.ipynb",
   "provenance": []
  },
  "kernelspec": {
   "display_name": "Python 3",
   "language": "python",
   "name": "python3"
  },
  "language_info": {
   "codemirror_mode": {
    "name": "ipython",
    "version": 3
   },
   "file_extension": ".py",
   "mimetype": "text/x-python",
   "name": "python",
   "nbconvert_exporter": "python",
   "pygments_lexer": "ipython3",
   "version": "3.8.5"
  }
 },
 "nbformat": 4,
 "nbformat_minor": 1
}
